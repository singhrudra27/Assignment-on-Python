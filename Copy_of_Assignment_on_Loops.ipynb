{
  "nbformat": 4,
  "nbformat_minor": 0,
  "metadata": {
    "colab": {
      "provenance": []
    },
    "kernelspec": {
      "name": "python3",
      "display_name": "Python 3"
    },
    "language_info": {
      "name": "python"
    }
  },
  "cells": [
    {
      "cell_type": "markdown",
      "source": [
        "Write a program which accepts month's name as input and display the number of days in the month as output :"
      ],
      "metadata": {
        "id": "MdAkQQ_Y4wwG"
      }
    },
    {
      "cell_type": "code",
      "source": [
        "print(\"List of months: January, February, March, April, May, June, July, August, September, October, November, December\")\n",
        "month_name = input(\"Input the name of Month: \")\n",
        "\n",
        "if month_name == \"February\":\n",
        "\tprint(\"No. of days: 28/29 days\")\n",
        "elif month_name in (\"April\", \"June\", \"September\", \"November\"):\n",
        "\tprint(\"No. of days: 30 days\")\n",
        "elif month_name in (\"January\",\"january\" \"March\", \"May\", \"July\", \"August\", \"October\", \"December\"):\n",
        "\tprint(\"No. of days: 31 day\")\n",
        "else:\n",
        "\tprint(\"Wrong month name\") "
      ],
      "metadata": {
        "colab": {
          "base_uri": "https://localhost:8080/"
        },
        "id": "SftsaUoPspAZ",
        "outputId": "c819460c-e078-4d7b-d139-1ae4f03d72c5"
      },
      "execution_count": null,
      "outputs": [
        {
          "output_type": "stream",
          "name": "stdout",
          "text": [
            "List of months: January, February, March, April, May, June, July, August, September, October, November, December\n"
          ]
        }
      ]
    },
    {
      "cell_type": "markdown",
      "source": [
        "Take any word as input from the user and count the number of vowels in the word"
      ],
      "metadata": {
        "id": "Q8cCBC198J6M"
      }
    },
    {
      "cell_type": "code",
      "source": [
        "chrt=input(\"Enter word = \")\n",
        "count = 0\n",
        "vowels = [\"a\", \"e\", \"i\", \"o\", \"u\", \"A\", \"E\", \"I\", \"O\", \"U\"]\n",
        "for i in range(len(chrt)):\n",
        "    if chrt[i] in vowels:\n",
        "        count += 1\n",
        "print(\"Number of vowels in the given string is: \", count)"
      ],
      "metadata": {
        "colab": {
          "base_uri": "https://localhost:8080/"
        },
        "id": "g7d8dGbbspns",
        "outputId": "41d02249-ba05-4ba0-8499-4bff95973904"
      },
      "execution_count": null,
      "outputs": [
        {
          "output_type": "stream",
          "name": "stdout",
          "text": [
            "Enter word = India\n",
            "Number of vowels in the given string is:  3\n"
          ]
        }
      ]
    },
    {
      "cell_type": "code",
      "source": [
        "\n",
        "#class question"
      ],
      "metadata": {
        "id": "gY_oIsw88KU6"
      },
      "execution_count": null,
      "outputs": []
    },
    {
      "cell_type": "markdown",
      "source": [
        "Write a program to separate even and odd numbers in two distinct lists from a list of numbers of your choice :\n",
        "\n",
        "1.   List item\n",
        "2.   List item"
      ],
      "metadata": {
        "id": "1ugWwVXd49OI"
      }
    },
    {
      "cell_type": "code",
      "source": [
        "list=[12,15,20,25,40,28,32,45,57,86,67,90]\n",
        "even=[]\n",
        "odd=[]\n",
        "\n",
        "for i in list:\n",
        "  if i%2==0:\n",
        "    even.append(i)\n",
        "  else:\n",
        "    odd.append(i)\n",
        "    print(even)\n",
        "    print(odd)"
      ],
      "metadata": {
        "id": "JR1lx1vhsqLK",
        "colab": {
          "base_uri": "https://localhost:8080/"
        },
        "outputId": "3a1deee4-5e21-4f44-cb08-5182f41eb4eb"
      },
      "execution_count": null,
      "outputs": [
        {
          "output_type": "stream",
          "name": "stdout",
          "text": [
            "[12]\n",
            "[15]\n",
            "[12, 20]\n",
            "[15, 25]\n",
            "[12, 20, 40, 28, 32]\n",
            "[15, 25, 45]\n",
            "[12, 20, 40, 28, 32]\n",
            "[15, 25, 45, 57]\n",
            "[12, 20, 40, 28, 32, 86]\n",
            "[15, 25, 45, 57, 67]\n"
          ]
        }
      ]
    },
    {
      "cell_type": "markdown",
      "source": [
        "Write a program that appends datatype of elements from a list to a separate list"
      ],
      "metadata": {
        "id": "uaqnGrhs49Mf"
      }
    },
    {
      "cell_type": "code",
      "source": [
        "list=['india','usa','paris','uk',45,80,32,13,2,7]\n",
        "\n",
        "new_list=[]\n",
        "\n",
        "for a in list:\n",
        "  new_list.append(type(a))\n",
        "\n",
        "print(new_list)"
      ],
      "metadata": {
        "id": "LbLEUp6Ysq0s",
        "colab": {
          "base_uri": "https://localhost:8080/"
        },
        "outputId": "66062342-2e84-4775-db6d-d7fbc1589981"
      },
      "execution_count": null,
      "outputs": [
        {
          "output_type": "stream",
          "name": "stdout",
          "text": [
            "[<class 'str'>, <class 'str'>, <class 'str'>, <class 'str'>, <class 'int'>, <class 'int'>, <class 'int'>, <class 'int'>, <class 'int'>, <class 'int'>]\n"
          ]
        }
      ]
    },
    {
      "cell_type": "markdown",
      "source": [
        "Write a program to display only those numbers from a list that satisfies the following conditions:\n",
        "\n",
        "1. The number must be divisible by 7\n",
        "\n",
        "2. If the number is 140 then skip it and move to the next number in the list\n",
        "\n",
        "3. If the number in the list is greater than 630 then stop the loop"
      ],
      "metadata": {
        "id": "ddMu0Pj1643Y"
      }
    },
    {
      "cell_type": "code",
      "source": [
        "num=[17,70,75,120,400,630,525,700,200]\n",
        "\n",
        "for i in num:\n",
        "  if i>630:\n",
        "    break\n",
        "  elif i==140:\n",
        "    continue\n",
        "  elif i%7==0:\n",
        "    print(i)\n"
      ],
      "metadata": {
        "id": "1sm4z9-WwB33",
        "colab": {
          "base_uri": "https://localhost:8080/"
        },
        "outputId": "138a5a7d-d527-41a2-c983-e6da1a7df5d9"
      },
      "execution_count": null,
      "outputs": [
        {
          "output_type": "stream",
          "name": "stdout",
          "text": [
            "70\n",
            "630\n",
            "525\n"
          ]
        }
      ]
    }
  ]
}