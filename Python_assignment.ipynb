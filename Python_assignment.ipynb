{
  "nbformat": 4,
  "nbformat_minor": 0,
  "metadata": {
    "colab": {
      "provenance": []
    },
    "kernelspec": {
      "name": "python3",
      "display_name": "Python 3"
    },
    "language_info": {
      "name": "python"
    }
  },
  "cells": [
    {
      "cell_type": "markdown",
      "source": [
        "Write code to print characters from a string that are present at an even index number. For example, if your input string is \"python\", the output characters will be (p,t,o)."
      ],
      "metadata": {
        "id": "7qSLCe2Hi1US"
      }
    },
    {
      "cell_type": "code",
      "source": [
        "name=input(\"Enter your name \\n\")\n",
        "my_name= name[::2]\n",
        "print(my_name)"
      ],
      "metadata": {
        "colab": {
          "base_uri": "https://localhost:8080/"
        },
        "id": "-hrrPGjcjuMd",
        "outputId": "f616fb54-42fc-4e4d-85b6-62bb431cb832"
      },
      "execution_count": 5,
      "outputs": [
        {
          "output_type": "stream",
          "name": "stdout",
          "text": [
            "Enter your name \n",
            "Banglore\n",
            "Bnlr\n"
          ]
        }
      ]
    },
    {
      "cell_type": "markdown",
      "source": [
        "Write a function that calculates the average of the elements of the list:\n",
        "\n",
        "elements = [5, 7, 4, 9, 2]"
      ],
      "metadata": {
        "id": "upNzyc8Oi63Z"
      }
    },
    {
      "cell_type": "code",
      "source": [
        "elements = [5, 7, 4, 9, 2]\n",
        "A= sum(elements)\n",
        "average=A/5\n",
        "print(average)"
      ],
      "metadata": {
        "colab": {
          "base_uri": "https://localhost:8080/"
        },
        "id": "YxsjU9esjpFM",
        "outputId": "ff397904-f104-4963-9f67-9ce0a9bf7c73"
      },
      "execution_count": 6,
      "outputs": [
        {
          "output_type": "stream",
          "name": "stdout",
          "text": [
            "5.4\n"
          ]
        }
      ]
    },
    {
      "cell_type": "markdown",
      "source": [
        "Write a code that takes a year as input and determines whether it is a leap year or not."
      ],
      "metadata": {
        "id": "XuxSSuoGi-v-"
      }
    },
    {
      "cell_type": "code",
      "source": [
        "year = int(input('Enter a year: '))\n",
        "\n",
        "if year % 400 == 0 and year % 100 == 0:\n",
        "  print(year, 'is a leap year')\n",
        "elif year % 4 == 0 and year % 100 != 0:\n",
        "  print(year, 'is a leap year')\n",
        "else:\n",
        "  print(year, 'is not a leap year')"
      ],
      "metadata": {
        "colab": {
          "base_uri": "https://localhost:8080/"
        },
        "id": "rqPhtqFUjWf1",
        "outputId": "cc498faf-36d9-4ef7-a67a-fcbffa43c2a8"
      },
      "execution_count": 1,
      "outputs": [
        {
          "output_type": "stream",
          "name": "stdout",
          "text": [
            "Enter a year: 2009\n",
            "2009 is not a leap year\n"
          ]
        }
      ]
    },
    {
      "cell_type": "markdown",
      "source": [
        "Create a 1 dimensional numpy array of the first 50 even numbers. Convert this to a 10x5 numpy array and print its transpose."
      ],
      "metadata": {
        "id": "ltQ7miUgj86N"
      }
    },
    {
      "cell_type": "code",
      "source": [
        "import numpy as np"
      ],
      "metadata": {
        "id": "v8S5V2T1kqre"
      },
      "execution_count": 2,
      "outputs": []
    },
    {
      "cell_type": "code",
      "source": [
        "# Create 1D array of first 50 even numbers\n",
        "arr_1d = np.arange(0, 100, 2)\n",
        "\n",
        "# Reshape to 10x5 array\n",
        "arr_2d = arr_1d.reshape(10, 5)\n",
        "\n",
        "print(arr_2d)\n",
        "print(arr_2d.T) #transpose of 10x5 array"
      ],
      "metadata": {
        "colab": {
          "base_uri": "https://localhost:8080/"
        },
        "id": "aQP0Dbc5jXNb",
        "outputId": "64b03ef5-4aa9-4555-80e6-c070628ac523"
      },
      "execution_count": 3,
      "outputs": [
        {
          "output_type": "stream",
          "name": "stdout",
          "text": [
            "[[ 0  2  4  6  8]\n",
            " [10 12 14 16 18]\n",
            " [20 22 24 26 28]\n",
            " [30 32 34 36 38]\n",
            " [40 42 44 46 48]\n",
            " [50 52 54 56 58]\n",
            " [60 62 64 66 68]\n",
            " [70 72 74 76 78]\n",
            " [80 82 84 86 88]\n",
            " [90 92 94 96 98]]\n",
            "[[ 0 10 20 30 40 50 60 70 80 90]\n",
            " [ 2 12 22 32 42 52 62 72 82 92]\n",
            " [ 4 14 24 34 44 54 64 74 84 94]\n",
            " [ 6 16 26 36 46 56 66 76 86 96]\n",
            " [ 8 18 28 38 48 58 68 78 88 98]]\n"
          ]
        }
      ]
    },
    {
      "cell_type": "markdown",
      "source": [
        "Consider the 10x5 array created in the previous question. Find the mean of each row and column. You may use in built functions in order to have a more optimal solution"
      ],
      "metadata": {
        "id": "wOoZvZEolC6u"
      }
    },
    {
      "cell_type": "code",
      "source": [
        "#Mean of column\n",
        "mean_of_column = arr_2d.mean(axis=0)\n",
        "print (\"Mean of column\",mean_of_column)\n",
        "\n",
        "#Mean of row\n",
        "mean_of_row = arr_2d.mean(axis=1)\n",
        "print (\"Mean of row\",mean_of_row)"
      ],
      "metadata": {
        "colab": {
          "base_uri": "https://localhost:8080/"
        },
        "id": "Q1f6TQTEkpZO",
        "outputId": "84cb7b3c-559f-4b8f-bab4-66f28f9a6591"
      },
      "execution_count": 4,
      "outputs": [
        {
          "output_type": "stream",
          "name": "stdout",
          "text": [
            "Mean of column [45. 47. 49. 51. 53.]\n",
            "Mean of row [ 4. 14. 24. 34. 44. 54. 64. 74. 84. 94.]\n"
          ]
        }
      ]
    },
    {
      "cell_type": "code",
      "source": [],
      "metadata": {
        "id": "enJngGjGloLn"
      },
      "execution_count": null,
      "outputs": []
    }
  ]
}