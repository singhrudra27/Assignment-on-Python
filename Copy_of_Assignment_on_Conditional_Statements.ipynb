{
  "nbformat": 4,
  "nbformat_minor": 0,
  "metadata": {
    "colab": {
      "provenance": []
    },
    "kernelspec": {
      "name": "python3",
      "display_name": "Python 3"
    },
    "language_info": {
      "name": "python"
    }
  },
  "cells": [
    {
      "cell_type": "markdown",
      "source": [
        "Take three numbers 'x', 'y' and 'z' as input from the user and check which number is greater\n"
      ],
      "metadata": {
        "id": "AcR_27Hh5QTe"
      }
    },
    {
      "cell_type": "code",
      "source": [
        "x = int(input('Enter first number  : '))\n",
        "y = int(input('Enter second number : '))\n",
        "z = int(input('Enter third number  : '))\n",
        "\n",
        "largest = 0\n",
        "\n",
        "if x > y and x > z:\n",
        "    largest = x\n",
        "if y > x and y > z:\n",
        "    largest = y\n",
        "if z > x and z > y:\n",
        "    largest = z\n",
        "\n",
        "print(largest, \"is the largest of three numbers.\")"
      ],
      "metadata": {
        "id": "FeirxQt0HzMI",
        "colab": {
          "base_uri": "https://localhost:8080/"
        },
        "outputId": "b36a43d4-869e-4659-e9fe-d69ab44ee2ff"
      },
      "execution_count": 77,
      "outputs": [
        {
          "output_type": "stream",
          "name": "stdout",
          "text": [
            "Enter first number  : 8\n",
            "Enter second number : 10\n",
            "Enter third number  : 9\n",
            "10 is the largest of three numbers.\n"
          ]
        }
      ]
    },
    {
      "cell_type": "markdown",
      "source": [
        "Take an alphabet as input from the user and check if the alphabet is a vowel, consonant or an exception\n",
        "\n",
        "\n",
        "Vowel - 'a','e','i','o','u'\n",
        "\n",
        "Exception - 'h', 'y'\n",
        "\n",
        "Consonant - rest other alphabets "
      ],
      "metadata": {
        "id": "QgkCsQlx4c5Y"
      }
    },
    {
      "cell_type": "code",
      "source": [
        "al=(input(\"enter a alphabet = \"))\n",
        "if al=='a' or al=='e' or al=='i' or al=='o' or al=='u':\n",
        "  print('alphabet is vowel')\n",
        "elif al=='h' or al=='y':\n",
        "  print('alphabet is exception')\n",
        "else:\n",
        "  print('alphabet is consonant')\n"
      ],
      "metadata": {
        "id": "Laybj3Uym0w8",
        "colab": {
          "base_uri": "https://localhost:8080/"
        },
        "outputId": "ca43f54e-62e1-4133-f886-e124313edccf"
      },
      "execution_count": null,
      "outputs": [
        {
          "output_type": "stream",
          "name": "stdout",
          "text": [
            "enter a alphabet = u\n",
            "alphabet is vowel\n"
          ]
        }
      ]
    },
    {
      "cell_type": "markdown",
      "source": [
        "::Write a program to check whether a number given by a user is divisible by 2 and 3 both "
      ],
      "metadata": {
        "id": "5TqcIsuG4N4x"
      }
    },
    {
      "cell_type": "code",
      "source": [
        "num=int(input(\"enter a number \"))\n",
        "if num%2==0:\n",
        "  print(\"perfectly divisible 2\")\n",
        "else:\n",
        "  print(\"not perfectly divisible by 2\")\n",
        "\n",
        "if num%3==0:\n",
        "  print(\"perfectly divisible 3\")\n",
        "else:\n",
        "  print(\"not perfectly divisible by 3\")"
      ],
      "metadata": {
        "id": "O-hFko24oD1N",
        "colab": {
          "base_uri": "https://localhost:8080/"
        },
        "outputId": "d5db9a8b-1c7b-4e70-8e3b-9af2bae1ff87"
      },
      "execution_count": null,
      "outputs": [
        {
          "output_type": "stream",
          "name": "stdout",
          "text": [
            "enter a number 10\n",
            "perfectly divisible 2\n",
            "not perfectly divisible by 3\n"
          ]
        }
      ]
    },
    {
      "cell_type": "markdown",
      "source": [
        "Write a program to accept the cost price  of a bike as input and display the road tax to be paid according to the following crieteria :-\n",
        "\n",
        "Cost price - 100000 Tax - 15%\n",
        "\n",
        "Cost price - between 50000 to 100000 Tax - 10%\n",
        "\n",
        "Cost price - less than 50000 Tax - 5%"
      ],
      "metadata": {
        "id": "Vl0l7eM93o-k"
      }
    },
    {
      "cell_type": "code",
      "source": [
        "price=int(input(\"price of bike = \"))\n",
        "if price>100000:\n",
        "  print(price*0.15)\n",
        "elif price>=50000 and price<=100000:\n",
        "  print(price*0.10)\n",
        "else:\n",
        "  print (price*0.05)"
      ],
      "metadata": {
        "colab": {
          "base_uri": "https://localhost:8080/"
        },
        "id": "T0WeGR3ZFzOn",
        "outputId": "ae5234ce-a9b2-41c8-e34c-85ac5a7658ef"
      },
      "execution_count": null,
      "outputs": [
        {
          "output_type": "stream",
          "name": "stdout",
          "text": [
            "price of bike = 5000\n",
            "250.0\n"
          ]
        }
      ]
    },
    {
      "cell_type": "markdown",
      "source": [
        "Write a program to calculate the electricity bill by accepting the number of units consumed by the user as input. Use the following price chart for reference :-\n",
        "\n",
        "Price of first 100 units - no charges\n",
        "\n",
        "Price of next 100 units - Rs5/- per unit\n",
        "\n",
        "After 200 units - Rs10/- per unit"
      ],
      "metadata": {
        "id": "4qwB-dyV2vdv"
      }
    },
    {
      "cell_type": "code",
      "source": [
        "price=int(input(\"number of unit consumed = \"))\n",
        "if price<=100:\n",
        "  print(\"no charges \")\n",
        "elif price<=200 and price>100:\n",
        "  print(\"charges is 5/- unit\")\n",
        "else:\n",
        "  print(\"charges is 10/- unit\")"
      ],
      "metadata": {
        "id": "WiJ82JYXoGB4",
        "colab": {
          "base_uri": "https://localhost:8080/"
        },
        "outputId": "256f677e-d80b-4682-9aac-bf13c5ea2808"
      },
      "execution_count": 64,
      "outputs": [
        {
          "output_type": "stream",
          "name": "stdout",
          "text": [
            "number of unit consumed = 201\n",
            "charges is 10/- unit\n"
          ]
        }
      ]
    }
  ]
}